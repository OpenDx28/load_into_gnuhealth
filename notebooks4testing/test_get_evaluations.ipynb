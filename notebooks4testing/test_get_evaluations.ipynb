{
 "cells": [
  {
   "cell_type": "code",
   "execution_count": 3,
   "metadata": {
    "ExecuteTime": {
     "end_time": "2023-08-22T11:04:41.849610376Z",
     "start_time": "2023-08-22T11:04:41.279834790Z"
    }
   },
   "outputs": [],
   "source": [
    "import json\n",
    "\n",
    "from proteus import config, Model\n",
    "import statistics\n",
    "from datetime import date\n",
    "from faker import Faker\n",
    "import pandas as pd\n",
    "from evaluations.create_evaluations import *                                \n"
   ]
  },
  {
   "cell_type": "markdown",
   "metadata": {},
   "source": []
  },
  {
   "cell_type": "code",
   "execution_count": 47,
   "metadata": {
    "ExecuteTime": {
     "end_time": "2023-08-21T12:36:14.304908705Z",
     "start_time": "2023-08-21T12:36:14.253952085Z"
    }
   },
   "outputs": [],
   "source": [
    "def get_required_fields(Model):\n",
    "    fields = pd.DataFrame(Model._fields)\n",
    "    required_fields = fields.loc[\"required\"].reset_index()\n",
    "    filtered_df = required_fields[required_fields[\"required\"] == True]\n",
    "    return filtered_df"
   ]
  },
  {
   "cell_type": "code",
   "execution_count": 22,
   "metadata": {
    "ExecuteTime": {
     "end_time": "2023-08-21T11:58:42.907614979Z",
     "start_time": "2023-08-21T11:58:42.888312254Z"
    }
   },
   "outputs": [],
   "source": [
    "def watch_last(ModelName):\n",
    "    MyModel = Model.get(ModelName)\n",
    "    last = MyModel.find([], order=[(\"id\", \"DESC\")], limit=1)\n",
    "    return last[0]"
   ]
  },
  {
   "cell_type": "code",
   "execution_count": 18,
   "metadata": {},
   "outputs": [],
   "source": [
    "def print_record_fields(record):\n",
    "    for field_name, field in record._fields.items():\n",
    "        value = getattr(record, field_name)\n",
    "        # Printing basic information about each field and its value\n",
    "        print(f\"{field_name} ({type(field).__name__}): {value}\")"
   ]
  },
  {
   "cell_type": "code",
   "execution_count": 26,
   "metadata": {},
   "outputs": [
    {
     "data": {
      "text/plain": [
       "proteus.Model.get('gnuhealth.patient')(25)"
      ]
     },
     "execution_count": 26,
     "metadata": {},
     "output_type": "execute_result"
    }
   ],
   "source": [
    "last_eval.patient"
   ]
  },
  {
   "cell_type": "code",
   "execution_count": 23,
   "metadata": {},
   "outputs": [
    {
     "name": "stdout",
     "output_type": "stream",
     "text": [
      "abdominal_circ (dict): None\n",
      "abstraction (dict): False\n",
      "actions (dict): []\n",
      "age_months (dict): None\n",
      "appointment (dict): None\n",
      "bmi (dict): None\n",
      "bpm (dict): None\n",
      "calculation_ability (dict): False\n",
      "chief_complaint (dict): None\n",
      "cholesterol_total (dict): None\n",
      "code (dict): EVAL 2023/000020\n"
     ]
    },
    {
     "ename": "Fault",
     "evalue": "<Fault 255: \"'NoneType' object has no attribute 'name'\">",
     "output_type": "error",
     "traceback": [
      "\u001B[0;31m---------------------------------------------------------------------------\u001B[0m",
      "\u001B[0;31mFault\u001B[0m                                     Traceback (most recent call last)",
      "\u001B[0;32m<ipython-input-23-11c6292ed39c>\u001B[0m in \u001B[0;36m<module>\u001B[0;34m\u001B[0m\n\u001B[0;32m----> 1\u001B[0;31m \u001B[0mprint_record_fields\u001B[0m\u001B[0;34m(\u001B[0m\u001B[0mmy_eval\u001B[0m\u001B[0;34m)\u001B[0m\u001B[0;34m\u001B[0m\u001B[0;34m\u001B[0m\u001B[0m\n\u001B[0m",
      "\u001B[0;32m<ipython-input-18-353364713b1e>\u001B[0m in \u001B[0;36mprint_record_fields\u001B[0;34m(record)\u001B[0m\n\u001B[1;32m      1\u001B[0m \u001B[0;32mdef\u001B[0m \u001B[0mprint_record_fields\u001B[0m\u001B[0;34m(\u001B[0m\u001B[0mrecord\u001B[0m\u001B[0;34m)\u001B[0m\u001B[0;34m:\u001B[0m\u001B[0;34m\u001B[0m\u001B[0;34m\u001B[0m\u001B[0m\n\u001B[1;32m      2\u001B[0m     \u001B[0;32mfor\u001B[0m \u001B[0mfield_name\u001B[0m\u001B[0;34m,\u001B[0m \u001B[0mfield\u001B[0m \u001B[0;32min\u001B[0m \u001B[0mrecord\u001B[0m\u001B[0;34m.\u001B[0m\u001B[0m_fields\u001B[0m\u001B[0;34m.\u001B[0m\u001B[0mitems\u001B[0m\u001B[0;34m(\u001B[0m\u001B[0;34m)\u001B[0m\u001B[0;34m:\u001B[0m\u001B[0;34m\u001B[0m\u001B[0;34m\u001B[0m\u001B[0m\n\u001B[0;32m----> 3\u001B[0;31m         \u001B[0mvalue\u001B[0m \u001B[0;34m=\u001B[0m \u001B[0mgetattr\u001B[0m\u001B[0;34m(\u001B[0m\u001B[0mrecord\u001B[0m\u001B[0;34m,\u001B[0m \u001B[0mfield_name\u001B[0m\u001B[0;34m)\u001B[0m\u001B[0;34m\u001B[0m\u001B[0;34m\u001B[0m\u001B[0m\n\u001B[0m\u001B[1;32m      4\u001B[0m         \u001B[0;31m# Printing basic information about each field and its value\u001B[0m\u001B[0;34m\u001B[0m\u001B[0;34m\u001B[0m\u001B[0;34m\u001B[0m\u001B[0m\n\u001B[1;32m      5\u001B[0m         \u001B[0mprint\u001B[0m\u001B[0;34m(\u001B[0m\u001B[0;34mf\"{field_name} ({type(field).__name__}): {value}\"\u001B[0m\u001B[0;34m)\u001B[0m\u001B[0;34m\u001B[0m\u001B[0;34m\u001B[0m\u001B[0m\n",
      "\u001B[0;32m~/.local/lib/python3.8/site-packages/proteus/__init__.py\u001B[0m in \u001B[0;36m__get__\u001B[0;34m(self, instance, owner)\u001B[0m\n\u001B[1;32m    117\u001B[0m     \u001B[0;32mdef\u001B[0m \u001B[0m__get__\u001B[0m\u001B[0;34m(\u001B[0m\u001B[0mself\u001B[0m\u001B[0;34m,\u001B[0m \u001B[0minstance\u001B[0m\u001B[0;34m,\u001B[0m \u001B[0mowner\u001B[0m\u001B[0;34m)\u001B[0m\u001B[0;34m:\u001B[0m\u001B[0;34m\u001B[0m\u001B[0;34m\u001B[0m\u001B[0m\n\u001B[1;32m    118\u001B[0m         \u001B[0;32mif\u001B[0m \u001B[0minstance\u001B[0m\u001B[0;34m.\u001B[0m\u001B[0mid\u001B[0m \u001B[0;34m>=\u001B[0m \u001B[0;36m0\u001B[0m\u001B[0;34m:\u001B[0m\u001B[0;34m\u001B[0m\u001B[0;34m\u001B[0m\u001B[0m\n\u001B[0;32m--> 119\u001B[0;31m             \u001B[0minstance\u001B[0m\u001B[0;34m.\u001B[0m\u001B[0m_read\u001B[0m\u001B[0;34m(\u001B[0m\u001B[0mself\u001B[0m\u001B[0;34m.\u001B[0m\u001B[0mname\u001B[0m\u001B[0;34m)\u001B[0m\u001B[0;34m\u001B[0m\u001B[0;34m\u001B[0m\u001B[0m\n\u001B[0m\u001B[1;32m    120\u001B[0m         \u001B[0;32mreturn\u001B[0m \u001B[0minstance\u001B[0m\u001B[0;34m.\u001B[0m\u001B[0m_values\u001B[0m\u001B[0;34m.\u001B[0m\u001B[0mget\u001B[0m\u001B[0;34m(\u001B[0m\u001B[0mself\u001B[0m\u001B[0;34m.\u001B[0m\u001B[0mname\u001B[0m\u001B[0;34m,\u001B[0m \u001B[0mself\u001B[0m\u001B[0;34m.\u001B[0m\u001B[0mdefault\u001B[0m\u001B[0;34m)\u001B[0m\u001B[0;34m\u001B[0m\u001B[0;34m\u001B[0m\u001B[0m\n\u001B[1;32m    121\u001B[0m \u001B[0;34m\u001B[0m\u001B[0m\n",
      "\u001B[0;32m~/.local/lib/python3.8/site-packages/proteus/__init__.py\u001B[0m in \u001B[0;36m_read\u001B[0;34m(self, name)\u001B[0m\n\u001B[1;32m    975\u001B[0m         \u001B[0mfields\u001B[0m\u001B[0;34m.\u001B[0m\u001B[0mappend\u001B[0m\u001B[0;34m(\u001B[0m\u001B[0;34m'_timestamp'\u001B[0m\u001B[0;34m)\u001B[0m\u001B[0;34m\u001B[0m\u001B[0;34m\u001B[0m\u001B[0m\n\u001B[1;32m    976\u001B[0m         self._values.update(\n\u001B[0;32m--> 977\u001B[0;31m             self._proxy.read([self.id], fields, self._context)[0])\n\u001B[0m\u001B[1;32m    978\u001B[0m \u001B[0;34m\u001B[0m\u001B[0m\n\u001B[1;32m    979\u001B[0m     \u001B[0;32mdef\u001B[0m \u001B[0m_default_get\u001B[0m\u001B[0;34m(\u001B[0m\u001B[0mself\u001B[0m\u001B[0;34m)\u001B[0m\u001B[0;34m:\u001B[0m\u001B[0;34m\u001B[0m\u001B[0;34m\u001B[0m\u001B[0m\n",
      "\u001B[0;32m/usr/lib/python3.8/xmlrpc/client.py\u001B[0m in \u001B[0;36m__call__\u001B[0;34m(self, *args)\u001B[0m\n\u001B[1;32m   1107\u001B[0m         \u001B[0;32mreturn\u001B[0m \u001B[0m_Method\u001B[0m\u001B[0;34m(\u001B[0m\u001B[0mself\u001B[0m\u001B[0;34m.\u001B[0m\u001B[0m__send\u001B[0m\u001B[0;34m,\u001B[0m \u001B[0;34m\"%s.%s\"\u001B[0m \u001B[0;34m%\u001B[0m \u001B[0;34m(\u001B[0m\u001B[0mself\u001B[0m\u001B[0;34m.\u001B[0m\u001B[0m__name\u001B[0m\u001B[0;34m,\u001B[0m \u001B[0mname\u001B[0m\u001B[0;34m)\u001B[0m\u001B[0;34m)\u001B[0m\u001B[0;34m\u001B[0m\u001B[0;34m\u001B[0m\u001B[0m\n\u001B[1;32m   1108\u001B[0m     \u001B[0;32mdef\u001B[0m \u001B[0m__call__\u001B[0m\u001B[0;34m(\u001B[0m\u001B[0mself\u001B[0m\u001B[0;34m,\u001B[0m \u001B[0;34m*\u001B[0m\u001B[0margs\u001B[0m\u001B[0;34m)\u001B[0m\u001B[0;34m:\u001B[0m\u001B[0;34m\u001B[0m\u001B[0;34m\u001B[0m\u001B[0m\n\u001B[0;32m-> 1109\u001B[0;31m         \u001B[0;32mreturn\u001B[0m \u001B[0mself\u001B[0m\u001B[0;34m.\u001B[0m\u001B[0m__send\u001B[0m\u001B[0;34m(\u001B[0m\u001B[0mself\u001B[0m\u001B[0;34m.\u001B[0m\u001B[0m__name\u001B[0m\u001B[0;34m,\u001B[0m \u001B[0margs\u001B[0m\u001B[0;34m)\u001B[0m\u001B[0;34m\u001B[0m\u001B[0;34m\u001B[0m\u001B[0m\n\u001B[0m\u001B[1;32m   1110\u001B[0m \u001B[0;34m\u001B[0m\u001B[0m\n\u001B[1;32m   1111\u001B[0m \u001B[0;31m##\u001B[0m\u001B[0;34m\u001B[0m\u001B[0;34m\u001B[0m\u001B[0;34m\u001B[0m\u001B[0m\n",
      "\u001B[0;32m/usr/lib/python3.8/xmlrpc/client.py\u001B[0m in \u001B[0;36m__request\u001B[0;34m(self, methodname, params)\u001B[0m\n\u001B[1;32m   1448\u001B[0m                         allow_none=self.__allow_none).encode(self.__encoding, 'xmlcharrefreplace')\n\u001B[1;32m   1449\u001B[0m \u001B[0;34m\u001B[0m\u001B[0m\n\u001B[0;32m-> 1450\u001B[0;31m         response = self.__transport.request(\n\u001B[0m\u001B[1;32m   1451\u001B[0m             \u001B[0mself\u001B[0m\u001B[0;34m.\u001B[0m\u001B[0m__host\u001B[0m\u001B[0;34m,\u001B[0m\u001B[0;34m\u001B[0m\u001B[0;34m\u001B[0m\u001B[0m\n\u001B[1;32m   1452\u001B[0m             \u001B[0mself\u001B[0m\u001B[0;34m.\u001B[0m\u001B[0m__handler\u001B[0m\u001B[0;34m,\u001B[0m\u001B[0;34m\u001B[0m\u001B[0;34m\u001B[0m\u001B[0m\n",
      "\u001B[0;32m/usr/lib/python3.8/xmlrpc/client.py\u001B[0m in \u001B[0;36mrequest\u001B[0;34m(self, host, handler, request_body, verbose)\u001B[0m\n\u001B[1;32m   1151\u001B[0m         \u001B[0;32mfor\u001B[0m \u001B[0mi\u001B[0m \u001B[0;32min\u001B[0m \u001B[0;34m(\u001B[0m\u001B[0;36m0\u001B[0m\u001B[0;34m,\u001B[0m \u001B[0;36m1\u001B[0m\u001B[0;34m)\u001B[0m\u001B[0;34m:\u001B[0m\u001B[0;34m\u001B[0m\u001B[0;34m\u001B[0m\u001B[0m\n\u001B[1;32m   1152\u001B[0m             \u001B[0;32mtry\u001B[0m\u001B[0;34m:\u001B[0m\u001B[0;34m\u001B[0m\u001B[0;34m\u001B[0m\u001B[0m\n\u001B[0;32m-> 1153\u001B[0;31m                 \u001B[0;32mreturn\u001B[0m \u001B[0mself\u001B[0m\u001B[0;34m.\u001B[0m\u001B[0msingle_request\u001B[0m\u001B[0;34m(\u001B[0m\u001B[0mhost\u001B[0m\u001B[0;34m,\u001B[0m \u001B[0mhandler\u001B[0m\u001B[0;34m,\u001B[0m \u001B[0mrequest_body\u001B[0m\u001B[0;34m,\u001B[0m \u001B[0mverbose\u001B[0m\u001B[0;34m)\u001B[0m\u001B[0;34m\u001B[0m\u001B[0;34m\u001B[0m\u001B[0m\n\u001B[0m\u001B[1;32m   1154\u001B[0m             \u001B[0;32mexcept\u001B[0m \u001B[0mhttp\u001B[0m\u001B[0;34m.\u001B[0m\u001B[0mclient\u001B[0m\u001B[0;34m.\u001B[0m\u001B[0mRemoteDisconnected\u001B[0m\u001B[0;34m:\u001B[0m\u001B[0;34m\u001B[0m\u001B[0;34m\u001B[0m\u001B[0m\n\u001B[1;32m   1155\u001B[0m                 \u001B[0;32mif\u001B[0m \u001B[0mi\u001B[0m\u001B[0;34m:\u001B[0m\u001B[0;34m\u001B[0m\u001B[0;34m\u001B[0m\u001B[0m\n",
      "\u001B[0;32m/usr/lib/python3.8/xmlrpc/client.py\u001B[0m in \u001B[0;36msingle_request\u001B[0;34m(self, host, handler, request_body, verbose)\u001B[0m\n\u001B[1;32m   1167\u001B[0m             \u001B[0;32mif\u001B[0m \u001B[0mresp\u001B[0m\u001B[0;34m.\u001B[0m\u001B[0mstatus\u001B[0m \u001B[0;34m==\u001B[0m \u001B[0;36m200\u001B[0m\u001B[0;34m:\u001B[0m\u001B[0;34m\u001B[0m\u001B[0;34m\u001B[0m\u001B[0m\n\u001B[1;32m   1168\u001B[0m                 \u001B[0mself\u001B[0m\u001B[0;34m.\u001B[0m\u001B[0mverbose\u001B[0m \u001B[0;34m=\u001B[0m \u001B[0mverbose\u001B[0m\u001B[0;34m\u001B[0m\u001B[0;34m\u001B[0m\u001B[0m\n\u001B[0;32m-> 1169\u001B[0;31m                 \u001B[0;32mreturn\u001B[0m \u001B[0mself\u001B[0m\u001B[0;34m.\u001B[0m\u001B[0mparse_response\u001B[0m\u001B[0;34m(\u001B[0m\u001B[0mresp\u001B[0m\u001B[0;34m)\u001B[0m\u001B[0;34m\u001B[0m\u001B[0;34m\u001B[0m\u001B[0m\n\u001B[0m\u001B[1;32m   1170\u001B[0m \u001B[0;34m\u001B[0m\u001B[0m\n\u001B[1;32m   1171\u001B[0m         \u001B[0;32mexcept\u001B[0m \u001B[0mFault\u001B[0m\u001B[0;34m:\u001B[0m\u001B[0;34m\u001B[0m\u001B[0;34m\u001B[0m\u001B[0m\n",
      "\u001B[0;32m/usr/lib/python3.8/xmlrpc/client.py\u001B[0m in \u001B[0;36mparse_response\u001B[0;34m(self, response)\u001B[0m\n\u001B[1;32m   1339\u001B[0m         \u001B[0mp\u001B[0m\u001B[0;34m.\u001B[0m\u001B[0mclose\u001B[0m\u001B[0;34m(\u001B[0m\u001B[0;34m)\u001B[0m\u001B[0;34m\u001B[0m\u001B[0;34m\u001B[0m\u001B[0m\n\u001B[1;32m   1340\u001B[0m \u001B[0;34m\u001B[0m\u001B[0m\n\u001B[0;32m-> 1341\u001B[0;31m         \u001B[0;32mreturn\u001B[0m \u001B[0mu\u001B[0m\u001B[0;34m.\u001B[0m\u001B[0mclose\u001B[0m\u001B[0;34m(\u001B[0m\u001B[0;34m)\u001B[0m\u001B[0;34m\u001B[0m\u001B[0;34m\u001B[0m\u001B[0m\n\u001B[0m\u001B[1;32m   1342\u001B[0m \u001B[0;34m\u001B[0m\u001B[0m\n\u001B[1;32m   1343\u001B[0m \u001B[0;31m##\u001B[0m\u001B[0;34m\u001B[0m\u001B[0;34m\u001B[0m\u001B[0;34m\u001B[0m\u001B[0m\n",
      "\u001B[0;32m/usr/lib/python3.8/xmlrpc/client.py\u001B[0m in \u001B[0;36mclose\u001B[0;34m(self)\u001B[0m\n\u001B[1;32m    653\u001B[0m             \u001B[0;32mraise\u001B[0m \u001B[0mResponseError\u001B[0m\u001B[0;34m(\u001B[0m\u001B[0;34m)\u001B[0m\u001B[0;34m\u001B[0m\u001B[0;34m\u001B[0m\u001B[0m\n\u001B[1;32m    654\u001B[0m         \u001B[0;32mif\u001B[0m \u001B[0mself\u001B[0m\u001B[0;34m.\u001B[0m\u001B[0m_type\u001B[0m \u001B[0;34m==\u001B[0m \u001B[0;34m\"fault\"\u001B[0m\u001B[0;34m:\u001B[0m\u001B[0;34m\u001B[0m\u001B[0;34m\u001B[0m\u001B[0m\n\u001B[0;32m--> 655\u001B[0;31m             \u001B[0;32mraise\u001B[0m \u001B[0mFault\u001B[0m\u001B[0;34m(\u001B[0m\u001B[0;34m**\u001B[0m\u001B[0mself\u001B[0m\u001B[0;34m.\u001B[0m\u001B[0m_stack\u001B[0m\u001B[0;34m[\u001B[0m\u001B[0;36m0\u001B[0m\u001B[0;34m]\u001B[0m\u001B[0;34m)\u001B[0m\u001B[0;34m\u001B[0m\u001B[0;34m\u001B[0m\u001B[0m\n\u001B[0m\u001B[1;32m    656\u001B[0m         \u001B[0;32mreturn\u001B[0m \u001B[0mtuple\u001B[0m\u001B[0;34m(\u001B[0m\u001B[0mself\u001B[0m\u001B[0;34m.\u001B[0m\u001B[0m_stack\u001B[0m\u001B[0;34m)\u001B[0m\u001B[0;34m\u001B[0m\u001B[0;34m\u001B[0m\u001B[0m\n\u001B[1;32m    657\u001B[0m \u001B[0;34m\u001B[0m\u001B[0m\n",
      "\u001B[0;31mFault\u001B[0m: <Fault 255: \"'NoneType' object has no attribute 'name'\">"
     ]
    }
   ],
   "source": [
    "print_record_fields(my_eval)"
   ]
  },
  {
   "cell_type": "code",
   "execution_count": null,
   "metadata": {},
   "outputs": [],
   "source": []
  },
  {
   "cell_type": "code",
   "execution_count": 17,
   "outputs": [],
   "source": [
    "def get_deseases_csv(file):\n",
    "    df = pd.read_csv(file)\n",
    "    return df.loc[:,\"GNUHEALTH\" ].to_list()"
   ],
   "metadata": {
    "collapsed": false,
    "ExecuteTime": {
     "end_time": "2023-08-21T10:56:55.027674125Z",
     "start_time": "2023-08-21T10:56:54.967570225Z"
    }
   }
  },
  {
   "cell_type": "code",
   "execution_count": 18,
   "outputs": [],
   "source": [
    "list_deseases = get_deseases_csv(\"deseases.csv\")"
   ],
   "metadata": {
    "collapsed": false,
    "ExecuteTime": {
     "end_time": "2023-08-21T10:57:08.785419403Z",
     "start_time": "2023-08-21T10:57:08.732589516Z"
    }
   }
  },
  {
   "cell_type": "code",
   "execution_count": 19,
   "outputs": [
    {
     "data": {
      "text/plain": "['Acute Flacid Paralysis ',\n 'Acute Flacid Paralysis outbreak',\n 'Acute watery diarrhoea ',\n 'AWD alert',\n 'Cholera ',\n 'Cholera outbreak',\n 'Dengue Fever [classical dengue]',\n 'Diarrhoea with blood alert',\n 'Diarrhoea with blood ',\n 'Diptheria ',\n 'Measles ',\n 'Measles confirmed outbreak',\n 'Measles/rubella ',\n 'Measles Suspected outbreak',\n 'Viral meningitis']"
     },
     "execution_count": 19,
     "metadata": {},
     "output_type": "execute_result"
    }
   ],
   "source": [
    "list_deseases"
   ],
   "metadata": {
    "collapsed": false,
    "ExecuteTime": {
     "end_time": "2023-08-21T10:57:12.703756381Z",
     "start_time": "2023-08-21T10:57:12.674552476Z"
    }
   }
  },
  {
   "cell_type": "code",
   "execution_count": 10,
   "outputs": [],
   "source": [
    "connect_to_gnu()\n",
    "disease = Model.get(\"gnuhealth.patient.disease\")(2)\n"
   ],
   "metadata": {
    "collapsed": false,
    "ExecuteTime": {
     "end_time": "2023-08-22T11:11:54.155334282Z",
     "start_time": "2023-08-22T11:11:53.388958775Z"
    }
   }
  },
  {
   "cell_type": "code",
   "execution_count": 9,
   "outputs": [
    {
     "data": {
      "text/plain": "['_Model__context',\n '_Model__counter',\n '_Model__id',\n '__age_eval',\n '__age_value',\n '__allergy_type_eval',\n '__allergy_type_value',\n '__class__',\n '__create_date_eval',\n '__create_date_value',\n '__create_uid_eval',\n '__create_uid_value',\n '__date_start_treatment_eval',\n '__date_start_treatment_value',\n '__date_stop_treatment_eval',\n '__date_stop_treatment_value',\n '__delattr__',\n '__diagnosed_date_eval',\n '__diagnosed_date_value',\n '__dir__',\n '__disease_severity_eval',\n '__disease_severity_value',\n '__doc__',\n '__eq__',\n '__extra_info_eval',\n '__extra_info_value',\n '__format__',\n '__ge__',\n '__getattribute__',\n '__gt__',\n '__hash__',\n '__healed_date_eval',\n '__healed_date_value',\n '__healthprof_eval',\n '__healthprof_value',\n '__infectious_disease_icon_eval',\n '__infectious_disease_icon_value',\n '__init__',\n '__init_subclass__',\n '__institution_eval',\n '__institution_value',\n '__int__',\n '__is_active_eval',\n '__is_active_value',\n '__is_allergy_eval',\n '__is_allergy_value',\n '__is_infectious_eval',\n '__is_infectious_value',\n '__is_on_treatment_eval',\n '__is_on_treatment_value',\n '__lab_confirmed_eval',\n '__lab_confirmed_value',\n '__lab_test_eval',\n '__lab_test_value',\n '__le__',\n '__lt__',\n '__module__',\n '__name_eval',\n '__name_value',\n '__ne__',\n '__new__',\n '__newborn_id_eval',\n '__newborn_id_value',\n '__pathology_eval',\n '__pathology_value',\n '__pcs_code_eval',\n '__pcs_code_value',\n '__pregnancy_warning_eval',\n '__pregnancy_warning_value',\n '__rec_name_eval',\n '__rec_name_value',\n '__reduce__',\n '__reduce_ex__',\n '__related_evaluations_eval',\n '__related_evaluations_value',\n '__repr__',\n '__setattr__',\n '__short_comment_eval',\n '__short_comment_value',\n '__sizeof__',\n '__slots__',\n '__status_eval',\n '__status_value',\n '__str__',\n '__subclasshook__',\n '__treatment_description_eval',\n '__treatment_description_value',\n '__weeks_of_pregnancy_eval',\n '__weeks_of_pregnancy_value',\n '__write_date_eval',\n '__write_date_value',\n '__write_uid_eval',\n '__write_uid_value',\n '_changed',\n '_config',\n '_context',\n '_default_get',\n '_default_set',\n '_fields',\n '_get_eval',\n '_get_on_change_values',\n '_get_timestamp',\n '_get_values',\n '_group',\n '_on_change',\n '_on_change_args',\n '_on_change_set',\n '_parent',\n '_parent_field_name',\n '_parent_name',\n '_proxy',\n '_read',\n '_set_on_change',\n '_timestamp',\n '_values',\n 'age',\n 'allergy_type',\n 'click',\n 'create_date',\n 'create_uid',\n 'date_start_treatment',\n 'date_stop_treatment',\n 'delete',\n 'diagnosed_date',\n 'disease_severity',\n 'duplicate',\n 'extra_info',\n 'find',\n 'get',\n 'healed_date',\n 'healthprof',\n 'id',\n 'infectious_disease_icon',\n 'institution',\n 'is_active',\n 'is_allergy',\n 'is_infectious',\n 'is_on_treatment',\n 'lab_confirmed',\n 'lab_test',\n 'name',\n 'newborn_id',\n 'notifications',\n 'pathology',\n 'pcs_code',\n 'pregnancy_warning',\n 'rec_name',\n 'related_evaluations',\n 'reload',\n 'reset',\n 'save',\n 'short_comment',\n 'status',\n 'treatment_description',\n 'weeks_of_pregnancy',\n 'write_date',\n 'write_uid']"
     },
     "execution_count": 9,
     "metadata": {},
     "output_type": "execute_result"
    }
   ],
   "source": [
    "dir(disease)"
   ],
   "metadata": {
    "collapsed": false,
    "ExecuteTime": {
     "end_time": "2023-08-22T11:05:41.834545889Z",
     "start_time": "2023-08-22T11:05:41.813883039Z"
    }
   }
  },
  {
   "cell_type": "code",
   "execution_count": 13,
   "outputs": [
    {
     "data": {
      "text/plain": "'Ana Isabel Betz'"
     },
     "execution_count": 13,
     "metadata": {},
     "output_type": "execute_result"
    }
   ],
   "source": [
    "disease.name.rec_name"
   ],
   "metadata": {
    "collapsed": false,
    "ExecuteTime": {
     "end_time": "2023-08-22T11:12:23.630191268Z",
     "start_time": "2023-08-22T11:12:23.355719282Z"
    }
   }
  },
  {
   "cell_type": "code",
   "execution_count": 14,
   "outputs": [
    {
     "ename": "AttributeError",
     "evalue": "'gnuhealth.patient.disease' object has no attribute 'healed'",
     "output_type": "error",
     "traceback": [
      "\u001B[0;31m---------------------------------------------------------------------------\u001B[0m",
      "\u001B[0;31mAttributeError\u001B[0m                            Traceback (most recent call last)",
      "\u001B[0;32m<ipython-input-14-418b5916cd1e>\u001B[0m in \u001B[0;36m<module>\u001B[0;34m\u001B[0m\n\u001B[0;32m----> 1\u001B[0;31m \u001B[0mdisease\u001B[0m\u001B[0;34m.\u001B[0m\u001B[0mhealed\u001B[0m\u001B[0;34m\u001B[0m\u001B[0;34m\u001B[0m\u001B[0m\n\u001B[0m",
      "\u001B[0;31mAttributeError\u001B[0m: 'gnuhealth.patient.disease' object has no attribute 'healed'"
     ]
    }
   ],
   "source": [
    "disease.healed_date"
   ],
   "metadata": {
    "collapsed": false,
    "ExecuteTime": {
     "end_time": "2023-08-22T11:12:48.828578354Z",
     "start_time": "2023-08-22T11:12:48.780621259Z"
    }
   }
  },
  {
   "cell_type": "code",
   "execution_count": null,
   "outputs": [],
   "source": [],
   "metadata": {
    "collapsed": false
   }
  }
 ],
 "metadata": {
  "kernelspec": {
   "display_name": "flask_tryton_gnuhealth",
   "language": "python",
   "name": "flask_tryton_gnuhealth"
  },
  "language_info": {
   "codemirror_mode": {
    "name": "ipython",
    "version": 3
   },
   "file_extension": ".py",
   "mimetype": "text/x-python",
   "name": "python",
   "nbconvert_exporter": "python",
   "pygments_lexer": "ipython3",
   "version": "3.8.10"
  },
  "orig_nbformat": 4
 },
 "nbformat": 4,
 "nbformat_minor": 2
}
