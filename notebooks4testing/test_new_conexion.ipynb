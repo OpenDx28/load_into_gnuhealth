{
 "cells": [
  {
   "cell_type": "code",
   "execution_count": 12,
   "outputs": [],
   "source": [
    "from proteus import config, Model"
   ],
   "metadata": {
    "collapsed": false,
    "ExecuteTime": {
     "end_time": "2023-09-28T22:13:20.210922686Z",
     "start_time": "2023-09-28T22:13:20.200801926Z"
    }
   },
   "id": "669ecb1770d71b7a"
  },
  {
   "cell_type": "code",
   "execution_count": 14,
   "outputs": [],
   "source": [
    "user = 'admin'\n",
    "password = 'opendx28'\n",
    "dbname = 'ghs'\n",
    "hostname = 'localhost'\n",
    "port = '8001'\n",
    "health_server = 'http://'+ hostname + ':' + port + '/' + dbname + '/'\n"
   ],
   "metadata": {
    "collapsed": false,
    "ExecuteTime": {
     "end_time": "2023-09-28T22:14:35.949958097Z",
     "start_time": "2023-09-28T22:14:35.906709090Z"
    }
   },
   "id": "5eef02459835a2b1"
  },
  {
   "cell_type": "code",
   "execution_count": 15,
   "outputs": [
    {
     "data": {
      "text/plain": "<contextlib._GeneratorContextManager at 0x7f457feead10>"
     },
     "execution_count": 15,
     "metadata": {},
     "output_type": "execute_result"
    }
   ],
   "source": [
    "config.set_xmlrpc_session(health_server,\n",
    "                          'admin',\n",
    "                          password = 'opendx28',\n",
    "                          )"
   ],
   "metadata": {
    "collapsed": false,
    "ExecuteTime": {
     "end_time": "2023-09-28T22:14:36.907267632Z",
     "start_time": "2023-09-28T22:14:36.890130382Z"
    }
   },
   "id": "8a1f26949df67f6c"
  },
  {
   "cell_type": "code",
   "execution_count": 10,
   "outputs": [],
   "source": [
    "config.get_config()"
   ],
   "metadata": {
    "collapsed": false,
    "ExecuteTime": {
     "end_time": "2023-09-28T22:12:07.806991616Z",
     "start_time": "2023-09-28T22:12:07.761692600Z"
    }
   },
   "id": "eb356e8e5d5f3a35"
  },
  {
   "cell_type": "code",
   "execution_count": 17,
   "outputs": [
    {
     "ename": "AttributeError",
     "evalue": "'NoneType' object has no attribute 'user'",
     "output_type": "error",
     "traceback": [
      "\u001B[0;31m---------------------------------------------------------------------------\u001B[0m",
      "\u001B[0;31mAttributeError\u001B[0m                            Traceback (most recent call last)",
      "Cell \u001B[0;32mIn[17], line 1\u001B[0m\n\u001B[0;32m----> 1\u001B[0m evaluations \u001B[38;5;241m=\u001B[39m \u001B[43mModel\u001B[49m\u001B[38;5;241;43m.\u001B[39;49m\u001B[43mget\u001B[49m\u001B[43m(\u001B[49m\u001B[38;5;124;43m'\u001B[39;49m\u001B[38;5;124;43mgnuhealth.patient.evaluation\u001B[39;49m\u001B[38;5;124;43m'\u001B[39;49m\u001B[43m)\u001B[49m\u001B[38;5;241m.\u001B[39mfind([])\n",
      "File \u001B[0;32m~/anaconda3/envs/load_into_gnuhealth/lib/python3.11/site-packages/proteus/__init__.py:768\u001B[0m, in \u001B[0;36mModel.get\u001B[0;34m(cls, name, config)\u001B[0m\n\u001B[1;32m    765\u001B[0m \u001B[38;5;28;01mif\u001B[39;00m (\u001B[38;5;28mbytes\u001B[39m \u001B[38;5;241m==\u001B[39m \u001B[38;5;28mstr\u001B[39m) \u001B[38;5;129;01mand\u001B[39;00m \u001B[38;5;28misinstance\u001B[39m(name, \u001B[38;5;28mstr\u001B[39m):\n\u001B[1;32m    766\u001B[0m     name \u001B[38;5;241m=\u001B[39m name\u001B[38;5;241m.\u001B[39mencode(\u001B[38;5;124m'\u001B[39m\u001B[38;5;124mutf-8\u001B[39m\u001B[38;5;124m'\u001B[39m)\n\u001B[0;32m--> 768\u001B[0m \u001B[38;5;28;01mclass\u001B[39;00m \u001B[38;5;21;01mSpam\u001B[39;00m(Model, metaclass\u001B[38;5;241m=\u001B[39m\u001B[43mMetaModelFactory\u001B[49m\u001B[43m(\u001B[49m\u001B[43mname\u001B[49m\u001B[43m,\u001B[49m\u001B[43m \u001B[49m\u001B[43mconfig\u001B[49m\u001B[38;5;241;43m=\u001B[39;49m\u001B[43mconfig\u001B[49m\u001B[43m)\u001B[49m\u001B[43m(\u001B[49m\u001B[43m)\u001B[49m):\n\u001B[1;32m    769\u001B[0m     \u001B[38;5;18m__slots__\u001B[39m \u001B[38;5;241m=\u001B[39m ()\n\u001B[1;32m    770\u001B[0m \u001B[38;5;28;01mreturn\u001B[39;00m Spam\n",
      "File \u001B[0;32m~/anaconda3/envs/load_into_gnuhealth/lib/python3.11/site-packages/proteus/__init__.py:477\u001B[0m, in \u001B[0;36mMetaModelFactory.__call__\u001B[0;34m(self)\u001B[0m\n\u001B[1;32m    476\u001B[0m \u001B[38;5;28;01mdef\u001B[39;00m \u001B[38;5;21m__call__\u001B[39m(\u001B[38;5;28mself\u001B[39m):\n\u001B[0;32m--> 477\u001B[0m     models_key \u001B[38;5;241m=\u001B[39m \u001B[38;5;124m'\u001B[39m\u001B[38;5;124mc\u001B[39m\u001B[38;5;132;01m%s\u001B[39;00m\u001B[38;5;124mu\u001B[39m\u001B[38;5;132;01m%s\u001B[39;00m\u001B[38;5;124m'\u001B[39m \u001B[38;5;241m%\u001B[39m (\u001B[38;5;28mid\u001B[39m(\u001B[38;5;28mself\u001B[39m\u001B[38;5;241m.\u001B[39mconfig), \u001B[38;5;28;43mself\u001B[39;49m\u001B[38;5;241;43m.\u001B[39;49m\u001B[43mconfig\u001B[49m\u001B[38;5;241;43m.\u001B[39;49m\u001B[43muser\u001B[49m)\n\u001B[1;32m    478\u001B[0m     \u001B[38;5;28;01mif\u001B[39;00m \u001B[38;5;129;01mnot\u001B[39;00m \u001B[38;5;28mhasattr\u001B[39m(_MODELS, models_key):\n\u001B[1;32m    479\u001B[0m         \u001B[38;5;28msetattr\u001B[39m(_MODELS, models_key, {})\n",
      "\u001B[0;31mAttributeError\u001B[0m: 'NoneType' object has no attribute 'user'"
     ]
    }
   ],
   "source": [
    "evaluations = Model.get('gnuhealth.patient.evaluation').find([])"
   ],
   "metadata": {
    "collapsed": false,
    "ExecuteTime": {
     "end_time": "2023-09-28T22:14:54.405938688Z",
     "start_time": "2023-09-28T22:14:54.349848956Z"
    }
   },
   "id": "8bb9d05ef6752f18"
  },
  {
   "cell_type": "code",
   "execution_count": null,
   "outputs": [],
   "source": [],
   "metadata": {
    "collapsed": false
   },
   "id": "5c1cf8c15c29213b"
  }
 ],
 "metadata": {
  "kernelspec": {
   "display_name": "Python 3",
   "language": "python",
   "name": "python3"
  },
  "language_info": {
   "codemirror_mode": {
    "name": "ipython",
    "version": 2
   },
   "file_extension": ".py",
   "mimetype": "text/x-python",
   "name": "python",
   "nbconvert_exporter": "python",
   "pygments_lexer": "ipython2",
   "version": "2.7.6"
  }
 },
 "nbformat": 4,
 "nbformat_minor": 5
}
